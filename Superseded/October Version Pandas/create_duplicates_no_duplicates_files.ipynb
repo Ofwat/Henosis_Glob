{
 "cells": [
  {
   "cell_type": "code",
   "execution_count": 203,
   "id": "e6fd7fac-5b74-4d20-9461-d26ecb0eaf40",
   "metadata": {
    "tags": []
   },
   "outputs": [],
   "source": [
    "# THIS FILE AGGREGATES BPT DATA AND MERGES TOGETHER TO ENABLE FURTHER PROCESSING\n",
    "# NB it accepts both xlsx and xlsb files as input. But binary files seem to run quicker.\n",
    "\n",
    "import pandas as pd\n",
    "import numpy as np\n",
    "import glob\n",
    "import os"
   ]
  },
  {
   "cell_type": "code",
   "execution_count": 237,
   "id": "57df176b-9b90-4b79-a5c7-733158cf5e61",
   "metadata": {
    "tags": []
   },
   "outputs": [],
   "source": [
    "# These are the O drive location where we'll save our files\n",
    "path3 = r\"C:\\Users\\Maria.diapouli\\OneDrive - OFWAT\\Python\\validation_tool\\Excel Aggregation\\Data\"\n"
   ]
  },
  {
   "cell_type": "code",
   "execution_count": 238,
   "id": "6aff1196-30ee-4653-87af-d6df27a24998",
   "metadata": {
    "tags": []
   },
   "outputs": [],
   "source": [
    "# change the current directory\n",
    "# to specified directory\n",
    "os.chdir(path3)"
   ]
  },
  {
   "cell_type": "code",
   "execution_count": null,
   "id": "d2257c40-5040-4b9c-93e0-23e0aff91b66",
   "metadata": {
    "tags": []
   },
   "outputs": [],
   "source": [
    "%%time \n",
    "# Create aggregated f_outputs sheets from companies' files\n",
    "\n",
    "# Create an empty dataframes\n",
    "df = pd.DataFrame()\n",
    "\n",
    "#open all files in a directory\n",
    "#for file in glob.glob(r\"*.xls*\"):  # glob is a way of getting all the files of a certain type\n",
    "#open a specific file \n",
    "for file in glob.glob('SBB_PR24-BP-tables-V6-Publish_Amended.xlsx'):  \n",
    "    acronym = file[0:3]  # Get the three letter prefix we have added. This assumes that each file has the acronym of the company added at the beginning\n",
    "    xl = pd.ExcelFile(file)  # Define the excel file\n",
    "    worksheets = xl.sheet_names  # Get the list of worksheets in the file\n",
    "    for i in worksheets:  # For each worksheet...\n",
    "        if \"fOut\" in i:  # ...if the workseet contains the text \"fOut\" then...\n",
    "            df_temp = pd.read_excel(file, sheet_name= i, skiprows=1)  # Put the data into a temporary dataframe\n",
    "            df_temp = df_temp.iloc[1:]  # Chop off the top row (in our file it is unused)\n",
    "            # headers_temp = set(df_temp.columns)  # In development this and the next row were used to ensure the df would ultimately have all the right headers\n",
    "            # headers = headers.union(headers_temp)\n",
    "            df_temp['Acronym'] = acronym  # Add in the acronym name so we we can identify the company the data relates to\n",
    "            df_temp['Sheet_name'] = i  # Add in the name of the worksheet, so we locate any issues more easily\n",
    "            print(acronym + \" \" + i + \" completed ok\")\n",
    "            df = pd.concat([df, df_temp])  # Add the temporary df to the master dataframe\n"
   ]
  },
  {
   "cell_type": "code",
   "execution_count": 235,
   "id": "629fc7c6-a553-4206-a053-48ea46f913d3",
   "metadata": {
    "tags": []
   },
   "outputs": [],
   "source": [
    "df = df[[\"Acronym\", \"Reference\", \"Sheet_name\", \"Item description\", \"Unit\", \"Model\", 'Constant', # Reorder the years columns\n",
    "         \"2011-12\", \"2012-13\", \"2013-14\", \"2014-15\", \"2015-16\", \"2016-17\", \"2017-18\", \"2018-19\", \"2019-20\", \"2020-21\", \"2021-22\", \"2022-23\", \"2023-24\", \"2024-25\", \"2025-26\", \"2026-27\", \"2027-28\", \"2028-29\", \"2029-30\", \"2030-31\", \"2031-32\", \"2032-33\", \"2033-34\", \"2034-35\",\n",
    "         \"2020-25\", \"2025-30\", \"2030-35\", \"2035-40\", \"2040-45\", \"2045-50\",\n",
    "         '2039-40', '2044-45', '2025-55', '2049-50']]\n",
    "\n",
    "df.reset_index(inplace=True, drop=True)"
   ]
  },
  {
   "cell_type": "code",
   "execution_count": 222,
   "id": "249890ba-97ec-4806-aa7e-fca65bf2f153",
   "metadata": {
    "tags": []
   },
   "outputs": [
    {
     "name": "stdout",
     "output_type": "stream",
     "text": [
      "CPU times: total: 0 ns\n",
      "Wall time: 0 ns\n"
     ]
    }
   ],
   "source": [
    "%%time \n",
    "# Export the results to excel, pickle and sqlite3\n",
    "#df.to_excel(r\".\\Aggregated outputs\\WSX.xlsx\", sheet_name=\"F_Outputs\")"
   ]
  },
  {
   "cell_type": "code",
   "execution_count": 236,
   "id": "0e7dcae9-b4bd-4bcb-a084-c0696d85c4bc",
   "metadata": {
    "tags": []
   },
   "outputs": [
    {
     "name": "stdout",
     "output_type": "stream",
     "text": [
      "CPU times: total: 2.42 s\n",
      "Wall time: 2.58 s\n"
     ]
    }
   ],
   "source": [
    "%%time \n",
    "#prints the wall time for the entire cell for Ipython and jupyter\n",
    "#Find Duplicate rows, do not keep first instance of duplicate into original file \n",
    "duplicateByRow = df[df.duplicated(subset=['Acronym', 'Reference'],keep=False)]\n",
    "\n",
    "# Export the results to excel\n",
    "duplicateByRow.to_excel(r\".\\Aggregated outputs\\duplicated_SBB.xlsx\", sheet_name=\"Duplicates\")\n",
    "\n"
   ]
  },
  {
   "cell_type": "code",
   "execution_count": 226,
   "id": "ef38c8ff-e50d-4f38-9929-889289d927c8",
   "metadata": {
    "tags": []
   },
   "outputs": [
    {
     "name": "stdout",
     "output_type": "stream",
     "text": [
      "CPU times: total: 7.3 s\n",
      "Wall time: 7.66 s\n"
     ]
    }
   ],
   "source": [
    "%%time \n",
    "# Dropping ALL duplicate values, modify the exisitng DataFrame\n",
    "df.drop_duplicates(subset=['Reference'],keep=False,inplace=True)\n",
    "df.to_excel(r\".\\Aggregated outputs\\Files_No_Duplicates_Batch_3\\no_duplicates_WSX.xlsx\", sheet_name=\"F_Outputs\")"
   ]
  },
  {
   "cell_type": "code",
   "execution_count": null,
   "id": "9f078e25-40d6-423b-ae15-da01e573075e",
   "metadata": {},
   "outputs": [],
   "source": []
  }
 ],
 "metadata": {
  "kernelspec": {
   "display_name": "Python 3 (ipykernel)",
   "language": "python",
   "name": "python3"
  },
  "language_info": {
   "codemirror_mode": {
    "name": "ipython",
    "version": 3
   },
   "file_extension": ".py",
   "mimetype": "text/x-python",
   "name": "python",
   "nbconvert_exporter": "python",
   "pygments_lexer": "ipython3",
   "version": "3.9.13"
  }
 },
 "nbformat": 4,
 "nbformat_minor": 5
}
