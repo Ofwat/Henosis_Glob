{
 "cells": [
  {
   "cell_type": "code",
   "execution_count": 4,
   "id": "e24580c4-0737-446d-821e-70d7fa01a1a1",
   "metadata": {
    "tags": []
   },
   "outputs": [],
   "source": [
    "import os\n",
    "import shutil\n",
    "import openpyxl\n",
    "from openpyxl.utils.dataframe import dataframe_to_rows\n",
    "from datetime import datetime\n",
    "import pandas as pd\n"
   ]
  },
  {
   "cell_type": "code",
   "execution_count": 8,
   "id": "483a8156-0875-4528-a8ff-30dfb9a338e5",
   "metadata": {
    "tags": []
   },
   "outputs": [],
   "source": [
    "#change the current directory\n",
    "path = r\"C:\\Users\\Maria.diapouli\\OneDrive - OFWAT\\Data\\Business Plan Tables\\November submission\\3_Files error fixing WORKING\\Core\"\n",
    "path1 = r\"C:\\Users\\Maria.diapouli\\OneDrive - OFWAT\\Data\\Business Plan Tables\\November submission\\3_Files error fixing WORKING\\Variant\"\n",
    "os.chdir(path1)\n",
    "\n"
   ]
  },
  {
   "cell_type": "code",
   "execution_count": 9,
   "id": "1de835aa-beb5-4e40-a1c8-e0d118fc5d0a",
   "metadata": {
    "tags": []
   },
   "outputs": [
    {
     "name": "stdout",
     "output_type": "stream",
     "text": [
      "SRN\n",
      "CPU times: total: 12.5 s\n",
      "Wall time: 13.2 s\n"
     ]
    },
    {
     "data": {
      "text/plain": [
       "'\\n        # Check if the \"Sliced outputs\" folder exists\\nsliced_outputs_folder = \".\\\\Sliced outputs\"\\nif os.path.exists(sliced_outputs_folder):\\n    timestamp = datetime.now().strftime(\"%d.%m.%Y\")\\n    moved_folder_parent = \".\\\\Superseded Sliced outputs\"\\n    moved_folder = os.path.join(moved_folder_parent, timestamp)\\n    os.makedirs(moved_folder, exist_ok=True)\\n        \\n    # Move existing files to the new folder\\n    for file_name in os.listdir(sliced_outputs_folder):\\n        source_path = os.path.join(sliced_outputs_folder, file_name)\\n        destination_path = os.path.join(moved_folder, file_name)\\n        shutil.move(source_path, destination_path)\\n        print(f\"Moved {file_name} to {moved_folder}\")\\n'"
      ]
     },
     "execution_count": 9,
     "metadata": {},
     "output_type": "execute_result"
    }
   ],
   "source": [
    "%%time \n",
    "\n",
    "\n",
    "# Create aggregated f_outputs sheets from companies' files\n",
    "input_file = r\"C:\\Users\\Maria.diapouli\\OneDrive - OFWAT\\Data\\Business Plan Tables\\November submission\\3_Files error fixing WORKING\\Variant\\Aggregated outputs\\No Duplicates Data Ready for Fountain\\\\\" +\"no_duplicates_SRN_data_clean_for_fountain_SRN.xlsx\"\n",
    "workbook = openpyxl.load_workbook(input_file, data_only=True)\n",
    "\n",
    "sheet_names = workbook.sheetnames\n",
    "\n",
    "for sheet_name in sheet_names:\n",
    "    sheet = workbook[sheet_name]\n",
    "    data = []\n",
    "\n",
    "    # Iterate through the rows and columns in the sheet and append data to the list\n",
    "    for row in sheet.iter_rows(values_only=True):\n",
    "        data.append(row)\n",
    "\n",
    "    # Convert the data list to a DataFrame (skip the header row if needed)\n",
    "    header = data[0]\n",
    "    data = data[1:]\n",
    "\n",
    "    # Create a DataFrame with the extracted data\n",
    "    df_temp = pd.DataFrame(data, columns=header)\n",
    "    # Separate out the companies\n",
    "    companies = df_temp[\"Acronym\"].unique()\n",
    "    # String to compare\n",
    "    #name = \"WSX\"\n",
    "\n",
    "\n",
    "    for name in companies:\n",
    "    #if name in companies:\n",
    "        print(name)\n",
    "        df_company = df_temp[df_temp[\"Acronym\"] == name]\n",
    "        output_file = os.path.join(\".\\\\Sliced outputs\", name + \"_\" + datetime.now().strftime(\"%d.%m.%Y %H.%M\") + \"_globlet.xlsx\")\n",
    "        workbook_output = openpyxl.Workbook()\n",
    "        workbook_output.remove(workbook_output.active)\n",
    "        sheet_output = workbook_output.create_sheet(title=\"F_Outputs\")\n",
    "        # Append the \"Acronym\" column as the first column\n",
    "        sheet_output.append([\"Acronym\"] + list(df_company.columns)[1:]) \n",
    "        \n",
    "        for row in dataframe_to_rows(df_company, index=False, header=False):\n",
    "            sheet_output.append([name] + list(row)[1:]) \n",
    "        \n",
    "        workbook_output.save(output_file)\n",
    "        \n",
    "'''\n",
    "        # Check if the \"Sliced outputs\" folder exists\n",
    "sliced_outputs_folder = \".\\\\Sliced outputs\"\n",
    "if os.path.exists(sliced_outputs_folder):\n",
    "    timestamp = datetime.now().strftime(\"%d.%m.%Y\")\n",
    "    moved_folder_parent = \".\\\\Superseded Sliced outputs\"\n",
    "    moved_folder = os.path.join(moved_folder_parent, timestamp)\n",
    "    os.makedirs(moved_folder, exist_ok=True)\n",
    "        \n",
    "    # Move existing files to the new folder\n",
    "    for file_name in os.listdir(sliced_outputs_folder):\n",
    "        source_path = os.path.join(sliced_outputs_folder, file_name)\n",
    "        destination_path = os.path.join(moved_folder, file_name)\n",
    "        shutil.move(source_path, destination_path)\n",
    "        print(f\"Moved {file_name} to {moved_folder}\")\n",
    "'''\n",
    "        "
   ]
  },
  {
   "cell_type": "code",
   "execution_count": null,
   "id": "99cea3cc-5531-4ed8-aa4c-61f04006d5f5",
   "metadata": {},
   "outputs": [],
   "source": []
  }
 ],
 "metadata": {
  "kernelspec": {
   "display_name": "Python 3 (ipykernel)",
   "language": "python",
   "name": "python3"
  },
  "language_info": {
   "codemirror_mode": {
    "name": "ipython",
    "version": 3
   },
   "file_extension": ".py",
   "mimetype": "text/x-python",
   "name": "python",
   "nbconvert_exporter": "python",
   "pygments_lexer": "ipython3",
   "version": "3.11.4"
  }
 },
 "nbformat": 4,
 "nbformat_minor": 5
}
